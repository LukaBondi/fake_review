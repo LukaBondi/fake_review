{
 "cells": [
  {
   "cell_type": "code",
   "execution_count": null,
   "metadata": {},
   "outputs": [],
   "source": [
    "from transformers import pipeline"
   ]
  },
  {
   "cell_type": "code",
   "execution_count": null,
   "metadata": {},
   "outputs": [],
   "source": [
    "# Load the target fine-tuned model\n",
    "modelPath = 'path/to/model'\n",
    "\n",
    "# Example text inputs\n",
    "text_inputs = [\n",
    "    \"This is a positive review.\",\n",
    "    \"I am not happy with the product.\",\n",
    "    \"The movie was fantastic!\",\n",
    "    \"The customer service was terrible.\",\n",
    "    \"I highly recommend this book.\"\n",
    "]"
   ]
  },
  {
   "cell_type": "code",
   "execution_count": null,
   "metadata": {},
   "outputs": [],
   "source": [
    "roberta_classifier = pipeline('text-classification', model=modelPath, tokenizer='roberta-base')\n",
    "#bert_classifier = pipeline('text-classification', model=modelPath, tokenizer='bert-base-uncased')\n",
    "#deberta_classifier = pipeline('text-classification', model=modelPath, tokenizer='microsoft/deberta-base')"
   ]
  },
  {
   "cell_type": "code",
   "execution_count": null,
   "metadata": {},
   "outputs": [],
   "source": [
    "roberta_predictions = roberta_classifier() # Make predictions using RoBERTa\n",
    "#bert_predictions = bert_classifier(text_inputs) # Make predictions using BERT\n",
    "#deberta_predictions = deberta_classifier(text_inputs) # Make predictions using DeBERTa"
   ]
  },
  {
   "cell_type": "code",
   "execution_count": null,
   "metadata": {},
   "outputs": [],
   "source": [
    "print(f'Model: {modelPath}')\n",
    "for pred in zip(roberta_predictions):\n",
    "    print(\"Model Prediction:\", pred['label'], \"- Confidence:\", pred['score'])"
   ]
  }
 ],
 "metadata": {
  "language_info": {
   "name": "python"
  },
  "orig_nbformat": 4
 },
 "nbformat": 4,
 "nbformat_minor": 2
}
