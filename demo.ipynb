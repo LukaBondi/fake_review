{
  "nbformat": 4,
  "nbformat_minor": 0,
  "metadata": {
    "colab": {
      "provenance": []
    },
    "kernelspec": {
      "name": "python3",
      "display_name": "Python 3"
    },
    "language_info": {
      "name": "python"
    }
  },
  "cells": [
    {
      "cell_type": "markdown",
      "source": [
        "## Model selection\n"
      ],
      "metadata": {
        "id": "a1y9l3QLtWBG"
      }
    },
    {
      "cell_type": "code",
      "source": [
        "!pip -q install --upgrade --no-cache-dir gdown\n",
        "!pip3 install transformers datasets transformers[torch]"
      ],
      "metadata": {
        "id": "26MD9MQGtVuA"
      },
      "execution_count": null,
      "outputs": []
    },
    {
      "cell_type": "markdown",
      "source": [
        "### BERT (Unfortunately the model file is corrupt)"
      ],
      "metadata": {
        "id": "vTPie1NzvyYN"
      }
    },
    {
      "cell_type": "code",
      "source": [
        "from transformers import BertTokenizer\n",
        "tokenizer = BertTokenizer.from_pretrained('bert-base-uncased') # Load the BERT tokenizer\n",
        "\n",
        "!gdown\n",
        "!unzip finetuned_RoBERTa.zip"
      ],
      "metadata": {
        "id": "cv8gMzmfvx22"
      },
      "execution_count": null,
      "outputs": []
    },
    {
      "cell_type": "markdown",
      "source": [
        "### RoBERTa"
      ],
      "metadata": {
        "id": "s28pmy4auF3U"
      }
    },
    {
      "cell_type": "code",
      "source": [
        "from transformers import RobertaTokenizer, RobertaForSequenceClassification\n",
        "tokenizer = RobertaTokenizer.from_pretrained('roberta-base') # Load the RoBERTa tokenizer\n",
        "\n",
        "!gdown 1DNYgBfoMoX2ew6C8v0W4wCYfT2Qhyiww\n",
        "!unzip finetuned_RoBERTa.zip"
      ],
      "metadata": {
        "id": "j0SfUGi1uEo9"
      },
      "execution_count": null,
      "outputs": []
    },
    {
      "cell_type": "markdown",
      "source": [
        "### DeBERTa"
      ],
      "metadata": {
        "id": "pkFZ6ylauHhx"
      }
    },
    {
      "cell_type": "code",
      "source": [
        "from transformers import DebertaTokenizer\n",
        "tokenizer = DebertaTokenizer.from_pretrained('microsoft/deberta-base') # Load the DeBERTa tokenizer\n",
        "\n",
        "!gdown 1K0vRAB4KsgowyJ4gJUx7UrIRPruSwpi3\n",
        "!unzip finetuned_DeBERTa.zip"
      ],
      "metadata": {
        "id": "34pbPmXiuPGx"
      },
      "execution_count": null,
      "outputs": []
    },
    {
      "cell_type": "markdown",
      "source": [
        "## Loading and Running the model\n"
      ],
      "metadata": {
        "id": "wB3A1GbluR7m"
      }
    },
    {
      "cell_type": "code",
      "source": [
        "from transformers import AutoModelForSequenceClassification\n",
        "\n",
        "# Load the tokenizer and model\n",
        "modelPath = \"./finetuned_RoBERTa\" # Path to model directory\n",
        "model = AutoModelForSequenceClassification.from_pretrained(modelPath)"
      ],
      "metadata": {
        "id": "U_6iTlHxtICX"
      },
      "execution_count": 5,
      "outputs": []
    },
    {
      "cell_type": "markdown",
      "source": [
        "# Sample text for model testing"
      ],
      "metadata": {
        "id": "0TtVtiWUu0Cl"
      }
    },
    {
      "cell_type": "markdown",
      "source": [
        "## Computer-generated"
      ],
      "metadata": {
        "id": "gYzYMl5JvAOj"
      }
    },
    {
      "cell_type": "code",
      "source": [
        "# Text inputs\n",
        "text_CG = [\n",
        "    \"This product has revolutionized my daily routine. It's incredibly efficient and versatile, making it a must-have for anyone looking to simplify their life.\"\n",
        "    ,\"I was skeptical at first, but this product exceeded all my expectations. It's a game-changer in its category and delivers exceptional results.\"\n",
        "    ,\"I've tried countless similar products, but this one stands out from the rest. It's intuitive, user-friendly, and provides a seamless experience.\"\n",
        "    ,\"This product has completely transformed the way I approach [specific activity]. It's like having a personal assistant by my side.\"\n",
        "    ,\"I can't believe how affordable this product is compared to its competitors. It offers incredible value for the price.\"\n",
        "    ,\"I was blown away by the quality and craftsmanship of this product. It's evident that attention to detail was a top priority.\"\n",
        "    ,\"If you're looking for a reliable and durable product, look no further. This one is built to last.\"\n",
        "    ,\"I can't imagine my life without this product now. It's become an essential part of my daily routine.\"\n",
        "    ,\"The design of this product is sleek and modern. It effortlessly blends into any environment.\"\n",
        "    ,\"From the moment I started using this product, I knew I had found something special. It's a true game-changer.\"\n",
        "    ,\"This product is a real time-saver. It streamlines tasks and allows me to be more productive.\"\n",
        "    ,\"I've recommended this product to all my friends and family. It's truly remarkable and worth every penny.\"\n",
        "    ,\"The customer service provided by the company behind this product is exceptional. They genuinely care about their customers.\"\n",
        "    ,\"I've tried similar products in the past, but this one outperforms them all. The results are simply outstanding.\"\n",
        "    ,\"This product is incredibly versatile. It adapts to different situations effortlessly.\"\n",
        "    ,\"I never thought I would find a product that combines style and functionality so seamlessly. It's a true gem.\"\n",
        "    ,\"The simplicity of this product is its biggest strength. It's easy to use and delivers exceptional performance.\"\n",
        "    ,\"I've been using this product for a while now, and it hasn't disappointed me once. It's a reliable companion.\"\n",
        "    ,\"The attention to detail in the design of this product is impressive. It's aesthetically pleasing and functional.\"\n",
        "    ,\"This product has exceeded my expectations in every way. I couldn't be happier with my purchase.\"\n",
        "    ,\"I love how this product integrates into my existing setup. It enhances my experience and makes things more convenient.\"\n",
        "    ,\"I've tried many alternatives, but this product is in a league of its own. It's truly ahead of its time.\"\n",
        "    ,\"The features and capabilities of this product are unmatched. It offers a whole new level of performance.\"\n",
        "    ,\"I'm amazed at how this product has simplified my life. It takes care of mundane tasks, leaving me more time for what matters.\"\n",
        "    ,\"This product has become an essential part of my daily routine. I can't imagine going back to how things were before.\"\n",
        "    ,\"The build quality of this product is exceptional. It feels sturdy and well-made, giving me confidence in its longevity.\"\n",
        "    ,\"I've always been skeptical of such products, but this one has converted me. It's truly remarkable.\"\n",
        "    ,\"This product is perfect for both beginners and experts alike. It caters to a wide range of users.\"\n",
        "    ,\"The intuitive interface of this product makes it a breeze to use. It's accessible to everyone.\"\n",
        "    ,\"I was hesitant to try this product at first, but now I can't imagine my life without it. It's become an indispensable\"\n",
        "]"
      ],
      "metadata": {
        "id": "dwfC9j-MwMbj"
      },
      "execution_count": 13,
      "outputs": []
    },
    {
      "cell_type": "markdown",
      "source": [
        "## Human-generated (Assumed)"
      ],
      "metadata": {
        "id": "cf_819VrwQSn"
      }
    },
    {
      "cell_type": "code",
      "source": [
        "# text_inputs\n",
        "text_OG = [\n",
        "    \"This dress is fabulous. The dress has a Pretty color, soft and well draped fabric. Highly recommend\"\n",
        "    ,\"The dress looks nice, however, I did not think it was flattering on me . The sizing was correct and it did fit, it just showcased things that I would rather not. If you have a belly of any kind this might not be the dress for you. On the plus side the fabric is very nice and the color is beautiful. I will probably upcycle the fabric into something else.\"\n",
        "    ,\"I got this for my girlfriend who was in need of some more dresses. She liked it and found it comfortable, although she hasn't had too many opportunities to wear it as it is definitely a summer dress. For reference she is 5'11 and wears an XL, and while it wasn't floor length, it still fell at an appropriate length for her. I found the color and style very attractive and sophisticated looking.\"\n",
        "    ,\"Love this dress. Material and pattern makes it easy to dress up and down.\"\n",
        "    ,\"Very cute and soft, unfortunately my 42 DDD bra size doesn’t fit at all in the top. The material will stretch out however it changes the shape of the dress enough to not be comfortable. I would have posts pic but I wasn’t comfortable doing so with the fit.\"\n",
        "    ,\"I love the material it’s soft and has a nice stretch. I normally take size 14, however, they were too big. I reordered size 12 and they’re perfect. Very comfortable\"\n",
        "    ,\"I have not purchased clothes online before but I took a risk since I could not find white capri's at clothing stores during winter. I checked the reviews and followed an advice that says to get a pa ir that is 1 size down. I wear a size 11 and by default I buy a pair of pants in a size 12. For this purchase, I ordered a size 10 (medium). Because it is made of stretch fabric, a size 10 fits comfortably on the waist and hip. The bottom is also on a regular width and not tapered, which I am appreciative of.\"\n",
        "    ,\"Check sizing, these are US sizes. US 8 = AU 10-12. Great Lee quality, however the leg is wider than shown in the photos.\"\n",
        "    ,\"I really do like these jeans, they fit really nice and stretch just where I need it, in the waist. The ONLY think I did not like was at the very bottom they do not hug your calf, they flare out a little, but no matter, I just roll them up twice and I am good to go.\"\n",
        "    ,\"I like the Capri pants but need to size up one size ..I return size 12 for a 16 but the 16 were too big so I am ordering a size 14.\"\n",
        "    ,\"They're a little snug but not enough to make me want to return them. They look really nice on.\"\n",
        "    ,\"They are very flattering and comfy, I just had a lot of little stuff stick to them so they look like they got dirty really easily\"\n",
        "    ,\"Wish it had more cotton and less polyester.\"\n",
        "    ,\"I usually wear 8/10 but had to return first pair and get 12 but they are soft and fit good! I’m going to order more! Return was easy!!\"\n",
        "    ,\"The keyboard wasn't a mechanical keyboard. However, the typing feeling was good. The Macro setting was superb able to toggle individual keys on or off and auto-repeat. All keys are programmable.\"\n",
        "    ,\"Apart from the minor fact the led flashing/ cracking effect so many people talk about ( which has eventually been fixed somehow) it is a brillaint, beautiful keyboard. Plenty of customisation. However word of warning the flashing thing may happen if you alter the light settings on the app thing. Other than that definately a fine keyboard\"\n",
        "    ,\"I am replacing a Razer Huntsman Elite and this isn't in the same ballpark. I'm going to return it. So disappointed.\"\n",
        "    ,\"absolutely love this device. had very limited experience with mechanical keyboards some time ago via roccat vulcan aimo but outside of that been using laptop keyboards for a long time and specifically mx keys for the past year.\"\n",
        "    ,\"Setting this up was a breeze, took less than an hour. But they sent the wrong black ink cartridge in the box, so there's that.\"\n",
        "    ,\"Plug in and go. Set up quickly. HP now makes you buy their ink cartridges- more expensive than off brands- or the printer won’t work. Used daily, quality print outs- can adjust print out quality from draft to fine.\"\n",
        "    ,\"It practically installed itself. The colour prints won't win any awards but are adequate for casual use. It is an inexpensive option for someone who just needs the occasional, fair quality, print.\"\n",
        "]"
      ],
      "metadata": {
        "id": "-6miI1QpwXJf"
      },
      "execution_count": 20,
      "outputs": []
    },
    {
      "cell_type": "markdown",
      "source": [
        "## Model testing"
      ],
      "metadata": {
        "id": "dlh6mvVtwZBn"
      }
    },
    {
      "cell_type": "markdown",
      "source": [
        "### Computer-generated\n"
      ],
      "metadata": {
        "id": "Wugk8JZj3hFR"
      }
    },
    {
      "cell_type": "code",
      "source": [
        "# Tokenize the text inputs\n",
        "encoded_inputs = tokenizer(text_CG, truncation=True, padding=True, return_tensors='pt')\n",
        "\n",
        "# Perform inference\n",
        "outputs = model(**encoded_inputs)\n",
        "logits = outputs.logits\n",
        "\n",
        "# Convert logits to probabilities\n",
        "probs = logits.softmax(dim=1)\n",
        "\n",
        "# Print the predicted labels and probabilities\n",
        "Correct = 0\n",
        "for i, text in enumerate(text_CG):\n",
        "    predicted_label = probs[i].argmax().item()\n",
        "    predicted_prob = probs[i][predicted_label].item()\n",
        "\n",
        "    #print(\"Text:\", text)\n",
        "    if predicted_label:\n",
        "      Correct += 1\n",
        "      print(f\"Predicted Label {i}: CG\")\n",
        "    else:\n",
        "      print(f\"Predicted Label {i}: OG\")\n",
        "    #print(\"Predicted Probability:\", predicted_prob)\n",
        "    #print()\n",
        "print(f'Correct: {Correct}')"
      ],
      "metadata": {
        "colab": {
          "base_uri": "https://localhost:8080/"
        },
        "id": "rBDHt5putMoi",
        "outputId": "44ec2072-2a9c-413f-88c0-305c640f3b18"
      },
      "execution_count": 17,
      "outputs": [
        {
          "output_type": "stream",
          "name": "stdout",
          "text": [
            "Predicted Label 0: OG\n",
            "Predicted Label 1: OG\n",
            "Predicted Label 2: OG\n",
            "Predicted Label 3: OG\n",
            "Predicted Label 4: OG\n",
            "Predicted Label 5: OG\n",
            "Predicted Label 6: CG\n",
            "Predicted Label 7: OG\n",
            "Predicted Label 8: OG\n",
            "Predicted Label 9: OG\n",
            "Predicted Label 10: OG\n",
            "Predicted Label 11: OG\n",
            "Predicted Label 12: OG\n",
            "Predicted Label 13: OG\n",
            "Predicted Label 14: OG\n",
            "Predicted Label 15: OG\n",
            "Predicted Label 16: OG\n",
            "Predicted Label 17: CG\n",
            "Predicted Label 18: OG\n",
            "Predicted Label 19: OG\n",
            "Predicted Label 20: OG\n",
            "Predicted Label 21: OG\n",
            "Predicted Label 22: OG\n",
            "Predicted Label 23: OG\n",
            "Predicted Label 24: OG\n",
            "Predicted Label 25: OG\n",
            "Predicted Label 26: OG\n",
            "Predicted Label 27: OG\n",
            "Predicted Label 28: OG\n",
            "Predicted Label 29: CG\n",
            "Correct: 3\n"
          ]
        }
      ]
    },
    {
      "cell_type": "markdown",
      "source": [
        "### Human-generated\n"
      ],
      "metadata": {
        "id": "EzH9f0ue3q5a"
      }
    },
    {
      "cell_type": "code",
      "source": [
        "# Tokenize the text inputs\n",
        "encoded_inputs = tokenizer(text_OG, truncation=True, padding=True, return_tensors='pt')\n",
        "\n",
        "# Perform inference\n",
        "outputs = model(**encoded_inputs)\n",
        "logits = outputs.logits\n",
        "\n",
        "# Convert logits to probabilities\n",
        "probs = logits.softmax(dim=1)\n",
        "\n",
        "# Print the predicted labels and probabilities\n",
        "Correct = 0\n",
        "for i, text in enumerate(text_OG):\n",
        "    predicted_label = probs[i].argmax().item()\n",
        "    predicted_prob = probs[i][predicted_label].item()\n",
        "\n",
        "    #print(\"Text:\", text)\n",
        "    if predicted_label:\n",
        "\n",
        "      print(f\"Predicted Label {i}: CG\")\n",
        "    else:\n",
        "      Correct += 1\n",
        "      print(f\"Predicted Label {i}: OG\")\n",
        "    #print(\"Predicted Probability:\", predicted_prob)\n",
        "    #print()\n",
        "print(f'Correct: {Correct}')"
      ],
      "metadata": {
        "colab": {
          "base_uri": "https://localhost:8080/"
        },
        "id": "_3th2h3J317c",
        "outputId": "b95c0416-2013-40da-8fee-bc5da99d1609"
      },
      "execution_count": 21,
      "outputs": [
        {
          "output_type": "stream",
          "name": "stdout",
          "text": [
            "Predicted Label 0: CG\n",
            "Predicted Label 1: OG\n",
            "Predicted Label 2: OG\n",
            "Predicted Label 3: OG\n",
            "Predicted Label 4: OG\n",
            "Predicted Label 5: OG\n",
            "Predicted Label 6: OG\n",
            "Predicted Label 7: OG\n",
            "Predicted Label 8: OG\n",
            "Predicted Label 9: OG\n",
            "Predicted Label 10: OG\n",
            "Predicted Label 11: OG\n",
            "Predicted Label 12: OG\n",
            "Predicted Label 13: OG\n",
            "Predicted Label 14: OG\n",
            "Predicted Label 15: OG\n",
            "Predicted Label 16: OG\n",
            "Predicted Label 17: OG\n",
            "Predicted Label 18: OG\n",
            "Predicted Label 19: OG\n",
            "Predicted Label 20: OG\n",
            "Correct: 20\n"
          ]
        }
      ]
    }
  ]
}